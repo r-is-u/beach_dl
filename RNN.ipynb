{
 "cells": [
  {
   "cell_type": "markdown",
   "metadata": {},
   "source": [
    "# Boilerplate"
   ]
  },
  {
   "cell_type": "code",
   "execution_count": 1,
   "metadata": {},
   "outputs": [],
   "source": [
    "from fastai.tabular import *\n",
    "from fastai.text import *\n",
    "from fastai.vision import Path\n",
    "import torch.nn.utils.rnn as trnn\n",
    "import numpy as np\n",
    "from IPython.core.debugger import set_trace"
   ]
  },
  {
   "cell_type": "markdown",
   "metadata": {},
   "source": [
    "# Custom collate_fn to get sequence data"
   ]
  },
  {
   "cell_type": "code",
   "execution_count": 2,
   "metadata": {},
   "outputs": [],
   "source": [
    "def sequence_collate(batch):\n",
    "    '''Function that collects `samples` of tabular lines and reshapes them to RNN Sequences of seq_length.'''\n",
    "    # x.shape -> BSx10 | y.shape -> BS x 1\n",
    "    x, y = data_collate(batch)    \n",
    "    #One-Hot encode result(y, True/False) and add it as last sequence\n",
    "    size = y.size(0)\n",
    "    enc = torch.zeros(size, 2)\n",
    "    for i in range(size):\n",
    "        enc[i][y[i]] = 1\n",
    "\n",
    "    # Input is now BSX12\n",
    "    x[1] = torch.cat((x[1], enc),dim=1)    \n",
    "    # Resize input from BSx12 into paired sequences\n",
    "    # -> x.shape = (BSx6x2)\n",
    "    x[1] = x[1].reshape(x[1].size(0), math.ceil(x[1].size(1)/2),-1)\n",
    "    return [x, y]"
   ]
  },
  {
   "cell_type": "markdown",
   "metadata": {},
   "source": [
    "## Load Data"
   ]
  },
  {
   "cell_type": "code",
   "execution_count": 3,
   "metadata": {},
   "outputs": [],
   "source": [
    "gender = 'men'\n",
    "file = 'normalized_' + gender + '.csv'\n",
    "path = Path('data')"
   ]
  },
  {
   "cell_type": "code",
   "execution_count": 4,
   "metadata": {},
   "outputs": [],
   "source": [
    "df = pd.read_csv(path/file)"
   ]
  },
  {
   "cell_type": "code",
   "execution_count": 5,
   "metadata": {},
   "outputs": [],
   "source": [
    "dep_var = 'Success'\n",
    "cat_names = ['Tech', 'Direction']\n",
    "cont_with_def = ['Serve_X', 'Serve_Y', 'Reception_X', 'Reception_Y', 'Set_X', 'Set_Y', 'Inrun_X', 'Inrun_Y', 'Attack_X', 'Attack_Y', 'Defense_X', 'Defense_Y']\n",
    "cont_without_def = ['Serve_X', 'Serve_Y', 'Reception_X', 'Reception_Y', 'Set_X', 'Set_Y', 'Inrun_X', 'Inrun_Y', 'Attack_X', 'Attack_Y']\n",
    "procs = [FillMissing, Categorify]\n",
    "data_df = df.drop(cat_names, 1)"
   ]
  },
  {
   "cell_type": "code",
   "execution_count": 6,
   "metadata": {},
   "outputs": [],
   "source": [
    "# Create Databunch\n",
    "# Split by idx because randn_perc for some reason does not respect the drop_last property in the valid_dl\n",
    "# even if set explicitly.\n",
    "# This results in an error at validation time, because the last batch has not the right dimensions for the RNN\n",
    "data = (TabularList.from_df(df, path=path, cont_names=cont_without_def, procs=procs)\n",
    "                           .split_by_idx(list(range(0,2560)))\n",
    "                           .label_from_df(cols=dep_var)\n",
    "                           .databunch(collate_fn=sequence_collate))\n",
    "\n",
    "data.valid_dl.drop_last = True"
   ]
  },
  {
   "cell_type": "code",
   "execution_count": 7,
   "metadata": {},
   "outputs": [
    {
     "data": {
      "text/plain": [
       "17"
      ]
     },
     "execution_count": 7,
     "metadata": {},
     "output_type": "execute_result"
    }
   ],
   "source": [
    "# Confim the size of the last batch that causes the validation error\n",
    "math.floor(len(df)*0.2) - (math.floor(len(df)*0.2 / 64)*64)"
   ]
  },
  {
   "cell_type": "markdown",
   "metadata": {},
   "source": [
    "# Hyperparameters"
   ]
  },
  {
   "cell_type": "code",
   "execution_count": 8,
   "metadata": {},
   "outputs": [],
   "source": [
    "BATCH_SIZE = 16\n",
    "TIME_STEP = 5\n",
    "INPUT_SIZE = 2\n",
    "HIDDEN_LAYERS = 128\n",
    "OUTPUT_DIM = 2"
   ]
  },
  {
   "cell_type": "markdown",
   "metadata": {},
   "source": [
    "## Multi-layer GRU"
   ]
  },
  {
   "cell_type": "markdown",
   "metadata": {},
   "source": [
    "### Custom Loss and Metrics"
   ]
  },
  {
   "cell_type": "code",
   "execution_count": 9,
   "metadata": {},
   "outputs": [],
   "source": [
    "def lossLast(input,target): \n",
    "    size = input.size(0)\n",
    "    \n",
    "    # One-hot encode targets again, since CrossEntropy expects a vector with 1 element per class\n",
    "    enc = torch.zeros(size, 2, dtype=torch.long).cuda()\n",
    "    for i in range(size):\n",
    "        enc[i][target[i]] = 1\n",
    "        \n",
    "    # CrossEntropy with only last hidden state not possible??\n",
    "    #last = torch.stack([input[i][-1] for i in range(size)])   \n",
    "    loss = nn.CrossEntropyLoss()\n",
    "    return loss(input, enc)\n",
    "\n",
    "\n",
    "def accLast (input,target):\n",
    "    size = input.size(0)\n",
    "    r = range(size)\n",
    "    # Only take the last hidden layer\n",
    "    last = torch.stack([input[i][-1] for i in r])\n",
    "    # Apply softmax\n",
    "    m = nn.Softmax(dim=1)\n",
    "    soft_last = m(last)\n",
    "    return accuracy(soft_last, target)"
   ]
  },
  {
   "cell_type": "markdown",
   "metadata": {},
   "source": [
    "### Model"
   ]
  },
  {
   "cell_type": "code",
   "execution_count": 10,
   "metadata": {},
   "outputs": [],
   "source": [
    "class beachGRU(nn.Module):\n",
    "    def __init__(self, input_dim, hidden_dim, output_dim, bs, gru_layers):\n",
    "        super().__init__()\n",
    "        self.gru = nn.GRU(input_dim, hidden_dim, gru_layers, batch_first=True)\n",
    "        self.h_o = nn.Linear(hidden_dim, output_dim)\n",
    "        self.bn = BatchNorm1dFlat(hidden_dim)\n",
    "        # Not necessary anymore\n",
    "        #self.h = torch.zeros(gru_layers, bs, hidden_dim).cuda()\n",
    "        \n",
    "    def forward(self, x_cat:Tensor, x_cont:Tensor) -> Tensor:\n",
    "        #res,h = self.gru(x_cont, self.h)\n",
    "        res,_ = self.gru(x_cont)\n",
    "        #self.h = h.detach()\n",
    "        return self.h_o(self.bn(res))"
   ]
  },
  {
   "cell_type": "code",
   "execution_count": 11,
   "metadata": {},
   "outputs": [],
   "source": [
    "learn = Learner(data, beachGRU(INPUT_SIZE, HIDDEN_LAYERS, OUTPUT_DIM, BATCH_SIZE, 2), loss_func=lossLast, metrics=accLast)"
   ]
  },
  {
   "cell_type": "markdown",
   "metadata": {},
   "source": [
    "### Training"
   ]
  },
  {
   "cell_type": "code",
   "execution_count": 12,
   "metadata": {},
   "outputs": [
    {
     "data": {
      "text/html": [],
      "text/plain": [
       "<IPython.core.display.HTML object>"
      ]
     },
     "metadata": {},
     "output_type": "display_data"
    },
    {
     "name": "stdout",
     "output_type": "stream",
     "text": [
      "LR Finder is complete, type {learner_name}.recorder.plot() to see the graph.\n"
     ]
    }
   ],
   "source": [
    "learn.lr_find()"
   ]
  },
  {
   "cell_type": "code",
   "execution_count": 13,
   "metadata": {},
   "outputs": [
    {
     "data": {
      "image/png": "[encoded data removed]",
      "text/plain": [
       "<Figure size 432x288 with 1 Axes>"
      ]
     },
     "metadata": {
      "needs_background": "light"
     },
     "output_type": "display_data"
    }
   ],
   "source": [
    "learn.recorder.plot()"
   ]
  },
  {
   "cell_type": "code",
   "execution_count": 14,
   "metadata": {},
   "outputs": [
    {
     "data": {
      "text/html": [
       "Total time: 00:51 <p><table style='width:375px; margin-bottom:10px'>\n",
       "  <tr>\n",
       "    <th>epoch</th>\n",
       "    <th>train_loss</th>\n",
       "    <th>valid_loss</th>\n",
       "    <th>accLast</th>\n",
       "    <th>time</th>\n",
       "  </tr>\n",
       "  <tr>\n",
       "    <th>0</th>\n",
       "    <th>0.860697</th>\n",
       "    <th>0.828689</th>\n",
       "    <th>0.386328</th>\n",
       "    <th>00:02</th>\n",
       "  </tr>\n",
       "  <tr>\n",
       "    <th>1</th>\n",
       "    <th>0.691466</th>\n",
       "    <th>0.681910</th>\n",
       "    <th>0.612109</th>\n",
       "    <th>00:02</th>\n",
       "  </tr>\n",
       "  <tr>\n",
       "    <th>2</th>\n",
       "    <th>0.665408</th>\n",
       "    <th>0.668878</th>\n",
       "    <th>0.361719</th>\n",
       "    <th>00:02</th>\n",
       "  </tr>\n",
       "  <tr>\n",
       "    <th>3</th>\n",
       "    <th>0.662216</th>\n",
       "    <th>0.671588</th>\n",
       "    <th>0.608203</th>\n",
       "    <th>00:02</th>\n",
       "  </tr>\n",
       "  <tr>\n",
       "    <th>4</th>\n",
       "    <th>0.663629</th>\n",
       "    <th>0.667944</th>\n",
       "    <th>0.612891</th>\n",
       "    <th>00:02</th>\n",
       "  </tr>\n",
       "  <tr>\n",
       "    <th>5</th>\n",
       "    <th>0.663024</th>\n",
       "    <th>0.668828</th>\n",
       "    <th>0.613672</th>\n",
       "    <th>00:02</th>\n",
       "  </tr>\n",
       "  <tr>\n",
       "    <th>6</th>\n",
       "    <th>0.661508</th>\n",
       "    <th>0.668662</th>\n",
       "    <th>0.613672</th>\n",
       "    <th>00:02</th>\n",
       "  </tr>\n",
       "  <tr>\n",
       "    <th>7</th>\n",
       "    <th>0.662463</th>\n",
       "    <th>0.668473</th>\n",
       "    <th>0.613672</th>\n",
       "    <th>00:02</th>\n",
       "  </tr>\n",
       "  <tr>\n",
       "    <th>8</th>\n",
       "    <th>0.663864</th>\n",
       "    <th>0.667366</th>\n",
       "    <th>0.613672</th>\n",
       "    <th>00:02</th>\n",
       "  </tr>\n",
       "  <tr>\n",
       "    <th>9</th>\n",
       "    <th>0.662302</th>\n",
       "    <th>0.667428</th>\n",
       "    <th>0.613672</th>\n",
       "    <th>00:02</th>\n",
       "  </tr>\n",
       "  <tr>\n",
       "    <th>10</th>\n",
       "    <th>0.663568</th>\n",
       "    <th>0.667288</th>\n",
       "    <th>0.613672</th>\n",
       "    <th>00:02</th>\n",
       "  </tr>\n",
       "  <tr>\n",
       "    <th>11</th>\n",
       "    <th>0.660881</th>\n",
       "    <th>0.667631</th>\n",
       "    <th>0.613672</th>\n",
       "    <th>00:02</th>\n",
       "  </tr>\n",
       "  <tr>\n",
       "    <th>12</th>\n",
       "    <th>0.668041</th>\n",
       "    <th>0.668174</th>\n",
       "    <th>0.613672</th>\n",
       "    <th>00:02</th>\n",
       "  </tr>\n",
       "  <tr>\n",
       "    <th>13</th>\n",
       "    <th>0.661895</th>\n",
       "    <th>0.667450</th>\n",
       "    <th>0.613672</th>\n",
       "    <th>00:02</th>\n",
       "  </tr>\n",
       "  <tr>\n",
       "    <th>14</th>\n",
       "    <th>0.659302</th>\n",
       "    <th>0.668142</th>\n",
       "    <th>0.613672</th>\n",
       "    <th>00:02</th>\n",
       "  </tr>\n",
       "  <tr>\n",
       "    <th>15</th>\n",
       "    <th>0.661979</th>\n",
       "    <th>0.667894</th>\n",
       "    <th>0.613672</th>\n",
       "    <th>00:02</th>\n",
       "  </tr>\n",
       "  <tr>\n",
       "    <th>16</th>\n",
       "    <th>0.661907</th>\n",
       "    <th>0.667608</th>\n",
       "    <th>0.613672</th>\n",
       "    <th>00:02</th>\n",
       "  </tr>\n",
       "  <tr>\n",
       "    <th>17</th>\n",
       "    <th>0.662817</th>\n",
       "    <th>0.667874</th>\n",
       "    <th>0.613672</th>\n",
       "    <th>00:02</th>\n",
       "  </tr>\n",
       "  <tr>\n",
       "    <th>18</th>\n",
       "    <th>0.659468</th>\n",
       "    <th>0.667775</th>\n",
       "    <th>0.613672</th>\n",
       "    <th>00:02</th>\n",
       "  </tr>\n",
       "  <tr>\n",
       "    <th>19</th>\n",
       "    <th>0.658909</th>\n",
       "    <th>0.667774</th>\n",
       "    <th>0.613672</th>\n",
       "    <th>00:02</th>\n",
       "  </tr>\n",
       "</table>\n"
      ],
      "text/plain": [
       "<IPython.core.display.HTML object>"
      ]
     },
     "metadata": {},
     "output_type": "display_data"
    }
   ],
   "source": [
    "learn.fit_one_cycle(20, 1e-3)"
   ]
  },
  {
   "cell_type": "code",
   "execution_count": null,
   "metadata": {},
   "outputs": [],
   "source": []
  }
 ],
 "metadata": {
  "kernelspec": {
   "display_name": "Python 3",
   "language": "python",
   "name": "python3"
  },
  "language_info": {
   "codemirror_mode": {
    "name": "ipython",
    "version": 3
   },
   "file_extension": ".py",
   "mimetype": "text/x-python",
   "name": "python",
   "nbconvert_exporter": "python",
   "pygments_lexer": "ipython3",
   "version": "3.7.1"
  }
 },
 "nbformat": 4,
 "nbformat_minor": 2
}
