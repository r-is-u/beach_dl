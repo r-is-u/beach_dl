{
 "cells": [
  {
   "cell_type": "markdown",
   "metadata": {},
   "source": [
    "# Boilerplate"
   ]
  },
  {
   "cell_type": "code",
   "execution_count": 1,
   "metadata": {},
   "outputs": [],
   "source": [
    "from fastai.tabular import *\n",
    "from fastai.text import *\n",
    "from fastai.vision import Path\n",
    "import torch.nn.utils.rnn as trnn\n",
    "import numpy as np\n",
    "from IPython.core.debugger import set_trace"
   ]
  },
  {
   "cell_type": "markdown",
   "metadata": {},
   "source": [
    "# Hyperparameters"
   ]
  },
  {
   "cell_type": "code",
   "execution_count": 2,
   "metadata": {},
   "outputs": [],
   "source": [
    "BATCH_SIZE = 64\n",
    "TIME_STEP = 5\n",
    "INPUT_SIZE = 2\n",
    "HIDDEN_LAYERS = 128\n",
    "OUTPUT_DIM = 2"
   ]
  },
  {
   "cell_type": "markdown",
   "metadata": {},
   "source": [
    "# Custom collate_fn to get sequence data"
   ]
  },
  {
   "cell_type": "code",
   "execution_count": 3,
   "metadata": {},
   "outputs": [],
   "source": [
    "def sequence_collate(batch):\n",
    "    '''Function that collects `samples` of tabular lines and reshapes them to RNN Sequences of seq_length.'''\n",
    "    # x.shape -> BSx10 | y.shape -> BS x 1\n",
    "    x, y = data_collate(batch)    \n",
    "    #One-Hot encode result(y, True/False) and add it as last sequence\n",
    "    #oh = one_hot(y, max(y)+1)\n",
    " \n",
    "    # Resize input from BSx10 into paired sequences\n",
    "    # -> x.shape = (BSx5x2)\n",
    "    x[1] = x[1].reshape(x[1].size(0), math.ceil(x[1].size(1)/2),-1)\n",
    "    return [x, y]"
   ]
  },
  {
   "cell_type": "markdown",
   "metadata": {},
   "source": [
    "## Load Data"
   ]
  },
  {
   "cell_type": "code",
   "execution_count": 4,
   "metadata": {},
   "outputs": [],
   "source": [
    "gender = 'men'\n",
    "file = 'normalized_' + gender + '.csv'\n",
    "path = Path('data')"
   ]
  },
  {
   "cell_type": "code",
   "execution_count": 5,
   "metadata": {},
   "outputs": [
    {
     "data": {
      "text/html": [
       "<div>\n",
       "<style scoped>\n",
       "    .dataframe tbody tr th:only-of-type {\n",
       "        vertical-align: middle;\n",
       "    }\n",
       "\n",
       "    .dataframe tbody tr th {\n",
       "        vertical-align: top;\n",
       "    }\n",
       "\n",
       "    .dataframe thead th {\n",
       "        text-align: right;\n",
       "    }\n",
       "</style>\n",
       "<table border=\"1\" class=\"dataframe\">\n",
       "  <thead>\n",
       "    <tr style=\"text-align: right;\">\n",
       "      <th></th>\n",
       "      <th>Direction</th>\n",
       "      <th>Tech</th>\n",
       "      <th>Success</th>\n",
       "      <th>Serve_X</th>\n",
       "      <th>Serve_Y</th>\n",
       "      <th>Reception_X</th>\n",
       "      <th>Reception_Y</th>\n",
       "      <th>Set_X</th>\n",
       "      <th>Set_Y</th>\n",
       "      <th>Attack_X</th>\n",
       "      <th>Attack_Y</th>\n",
       "      <th>Inrun_X</th>\n",
       "      <th>Inrun_Y</th>\n",
       "      <th>Defense_X</th>\n",
       "      <th>Defense_Y</th>\n",
       "    </tr>\n",
       "  </thead>\n",
       "  <tbody>\n",
       "    <tr>\n",
       "      <th>0</th>\n",
       "      <td>Line</td>\n",
       "      <td>Shot</td>\n",
       "      <td>True</td>\n",
       "      <td>0.139</td>\n",
       "      <td>0.9756</td>\n",
       "      <td>0.738</td>\n",
       "      <td>0.1478</td>\n",
       "      <td>0.620</td>\n",
       "      <td>0.3644</td>\n",
       "      <td>0.725</td>\n",
       "      <td>0.4244</td>\n",
       "      <td>0.874</td>\n",
       "      <td>0.1550</td>\n",
       "      <td>0.656</td>\n",
       "      <td>0.1633</td>\n",
       "    </tr>\n",
       "    <tr>\n",
       "      <th>1</th>\n",
       "      <td>Dia</td>\n",
       "      <td>Smash</td>\n",
       "      <td>False</td>\n",
       "      <td>0.811</td>\n",
       "      <td>1.0000</td>\n",
       "      <td>0.632</td>\n",
       "      <td>0.1983</td>\n",
       "      <td>0.475</td>\n",
       "      <td>0.3694</td>\n",
       "      <td>0.811</td>\n",
       "      <td>0.4417</td>\n",
       "      <td>0.803</td>\n",
       "      <td>0.2106</td>\n",
       "      <td>0.519</td>\n",
       "      <td>0.1900</td>\n",
       "    </tr>\n",
       "    <tr>\n",
       "      <th>2</th>\n",
       "      <td>Line</td>\n",
       "      <td>Shot</td>\n",
       "      <td>True</td>\n",
       "      <td>0.798</td>\n",
       "      <td>1.0000</td>\n",
       "      <td>0.401</td>\n",
       "      <td>0.2006</td>\n",
       "      <td>0.604</td>\n",
       "      <td>0.3944</td>\n",
       "      <td>0.548</td>\n",
       "      <td>0.4883</td>\n",
       "      <td>0.485</td>\n",
       "      <td>0.1728</td>\n",
       "      <td>0.352</td>\n",
       "      <td>0.1072</td>\n",
       "    </tr>\n",
       "  </tbody>\n",
       "</table>\n",
       "</div>"
      ],
      "text/plain": [
       "  Direction   Tech  Success  Serve_X  Serve_Y  Reception_X  Reception_Y  \\\n",
       "0      Line   Shot     True    0.139   0.9756        0.738       0.1478   \n",
       "1       Dia  Smash    False    0.811   1.0000        0.632       0.1983   \n",
       "2      Line   Shot     True    0.798   1.0000        0.401       0.2006   \n",
       "\n",
       "   Set_X   Set_Y  Attack_X  Attack_Y  Inrun_X  Inrun_Y  Defense_X  Defense_Y  \n",
       "0  0.620  0.3644     0.725    0.4244    0.874   0.1550      0.656     0.1633  \n",
       "1  0.475  0.3694     0.811    0.4417    0.803   0.2106      0.519     0.1900  \n",
       "2  0.604  0.3944     0.548    0.4883    0.485   0.1728      0.352     0.1072  "
      ]
     },
     "execution_count": 5,
     "metadata": {},
     "output_type": "execute_result"
    }
   ],
   "source": [
    "df = pd.read_csv(path/file)\n",
    "df.head(3)"
   ]
  },
  {
   "cell_type": "code",
   "execution_count": 6,
   "metadata": {},
   "outputs": [],
   "source": [
    "dep_var = 'Success'\n",
    "cat_names = ['Tech', 'Direction', 'Success']\n",
    "cont_with_def = ['Serve_X', 'Serve_Y', 'Reception_X', 'Reception_Y', 'Set_X', 'Set_Y', 'Inrun_X', 'Inrun_Y', 'Attack_X', 'Attack_Y', 'Defense_X', 'Defense_Y']\n",
    "cont_without_def = ['Serve_X', 'Serve_Y', 'Reception_X', 'Reception_Y', 'Set_X', 'Set_Y', 'Inrun_X', 'Inrun_Y', 'Attack_X', 'Attack_Y']\n",
    "procs = [FillMissing, Categorify]\n",
    "data_df = df.drop(cat_names, 1)"
   ]
  },
  {
   "cell_type": "code",
   "execution_count": 7,
   "metadata": {},
   "outputs": [],
   "source": [
    "# Create Databunch\n",
    "# Split by idx because for some reason the drop_last property in the valid_dl is not respected when using rand_perc\n",
    "# even if set explicitly.\n",
    "# This results in an error at validation time, because the last batch has not the right dimensions for the RNN\n",
    "data = (TabularList.from_df(df, path=path, cont_names=cont_without_def, procs=procs)\n",
    "                           .split_by_idx(list(range(0,2560)))\n",
    "                           .label_from_df(cols=dep_var)\n",
    "                           .databunch(collate_fn=sequence_collate))\n",
    "\n",
    "data.valid_dl.drop_last = True"
   ]
  },
  {
   "cell_type": "code",
   "execution_count": 8,
   "metadata": {},
   "outputs": [
    {
     "data": {
      "text/plain": [
       "17"
      ]
     },
     "execution_count": 8,
     "metadata": {},
     "output_type": "execute_result"
    }
   ],
   "source": [
    "# Confirm the size of the last batch that causes the validation error\n",
    "math.floor(len(df)*0.2) - (math.floor(len(df)*0.2 / 64)*64)"
   ]
  },
  {
   "cell_type": "markdown",
   "metadata": {},
   "source": [
    "## Multi-layer GRU"
   ]
  },
  {
   "cell_type": "markdown",
   "metadata": {},
   "source": [
    "### Custom Loss and Metrics"
   ]
  },
  {
   "cell_type": "code",
   "execution_count": 9,
   "metadata": {},
   "outputs": [],
   "source": [
    "def lossOH(input, target):     \n",
    "    # One-hot encode targets again, since CrossEntropy expects a vector with 1 element per class\n",
    "    # enc = one_hot(target, max(target)+1)\n",
    "    r = range(input.size(0))\n",
    "    # Only take the last hidden layer\n",
    "    last = torch.stack([input[i][-1] for i in r])\n",
    "    loss = nn.CrossEntropyLoss()\n",
    "    return loss(last, target.to(torch.long))\n",
    "\n",
    "\n",
    "def accSoftLast (input, target):\n",
    "    r = range(input.size(0))\n",
    "    # Only take the last hidden layer\n",
    "    last = torch.stack([input[i][-1] for i in r])\n",
    "    # Apply softmax\n",
    "    m = nn.Softmax(dim=1)\n",
    "    soft = m(last)\n",
    "    return accuracy(soft, target)"
   ]
  },
  {
   "cell_type": "markdown",
   "metadata": {},
   "source": [
    "### Model"
   ]
  },
  {
   "cell_type": "code",
   "execution_count": 10,
   "metadata": {},
   "outputs": [],
   "source": [
    "class beachGRU(nn.Module):\n",
    "    def __init__(self, input_dim, hidden_dim, output_dim, bs, gru_layers):\n",
    "        super().__init__()\n",
    "        self.gru = nn.GRU(input_dim, hidden_dim, gru_layers, batch_first=True)\n",
    "        self.h_o = nn.Linear(hidden_dim, output_dim)\n",
    "        self.bn = BatchNorm1dFlat(hidden_dim)\n",
    "        # Not necessary anymore?\n",
    "        self.h = torch.zeros(gru_layers, bs, hidden_dim).cuda()\n",
    "        \n",
    "    def forward(self, x_cat:Tensor, x_cont:Tensor) -> Tensor:\n",
    "        res,h = self.gru(x_cont, self.h)\n",
    "        #res, _ = self.gru(x_cont)\n",
    "        self.h = h.detach()\n",
    "        return self.h_o(self.bn(res))"
   ]
  },
  {
   "cell_type": "code",
   "execution_count": 11,
   "metadata": {},
   "outputs": [],
   "source": [
    "learn = Learner(data, beachGRU(INPUT_SIZE, HIDDEN_LAYERS, OUTPUT_DIM, BATCH_SIZE, 1), loss_func=lossOH, metrics=accSoftLast)"
   ]
  },
  {
   "cell_type": "markdown",
   "metadata": {},
   "source": [
    "### Training"
   ]
  },
  {
   "cell_type": "code",
   "execution_count": 12,
   "metadata": {},
   "outputs": [
    {
     "data": {
      "text/html": [],
      "text/plain": [
       "<IPython.core.display.HTML object>"
      ]
     },
     "metadata": {},
     "output_type": "display_data"
    },
    {
     "name": "stdout",
     "output_type": "stream",
     "text": [
      "LR Finder is complete, type {learner_name}.recorder.plot() to see the graph.\n"
     ]
    }
   ],
   "source": [
    "learn.lr_find()"
   ]
  },
  {
   "cell_type": "code",
   "execution_count": 13,
   "metadata": {},
   "outputs": [
    {
     "data": {
      "image/png": "[encoded data removed]",
      "text/plain": [
       "<Figure size 432x288 with 1 Axes>"
      ]
     },
     "metadata": {
      "needs_background": "light"
     },
     "output_type": "display_data"
    }
   ],
   "source": [
    "learn.recorder.plot()"
   ]
  },
  {
   "cell_type": "code",
   "execution_count": 14,
   "metadata": {},
   "outputs": [
    {
     "data": {
      "text/html": [
       "Total time: 00:20 <p><table style='width:375px; margin-bottom:10px'>\n",
       "  <tr>\n",
       "    <th>epoch</th>\n",
       "    <th>train_loss</th>\n",
       "    <th>valid_loss</th>\n",
       "    <th>accSoftLast</th>\n",
       "    <th>time</th>\n",
       "  </tr>\n",
       "  <tr>\n",
       "    <th>0</th>\n",
       "    <th>0.710306</th>\n",
       "    <th>0.675260</th>\n",
       "    <th>0.613672</th>\n",
       "    <th>00:02</th>\n",
       "  </tr>\n",
       "  <tr>\n",
       "    <th>1</th>\n",
       "    <th>0.705814</th>\n",
       "    <th>3.886986</th>\n",
       "    <th>0.613672</th>\n",
       "    <th>00:02</th>\n",
       "  </tr>\n",
       "  <tr>\n",
       "    <th>2</th>\n",
       "    <th>0.667632</th>\n",
       "    <th>3.546297</th>\n",
       "    <th>0.613672</th>\n",
       "    <th>00:02</th>\n",
       "  </tr>\n",
       "  <tr>\n",
       "    <th>3</th>\n",
       "    <th>0.664969</th>\n",
       "    <th>1.424135</th>\n",
       "    <th>0.613672</th>\n",
       "    <th>00:02</th>\n",
       "  </tr>\n",
       "  <tr>\n",
       "    <th>4</th>\n",
       "    <th>0.664513</th>\n",
       "    <th>0.822294</th>\n",
       "    <th>0.613672</th>\n",
       "    <th>00:02</th>\n",
       "  </tr>\n",
       "  <tr>\n",
       "    <th>5</th>\n",
       "    <th>0.657477</th>\n",
       "    <th>0.854186</th>\n",
       "    <th>0.613672</th>\n",
       "    <th>00:02</th>\n",
       "  </tr>\n",
       "  <tr>\n",
       "    <th>6</th>\n",
       "    <th>0.658023</th>\n",
       "    <th>0.714560</th>\n",
       "    <th>0.613672</th>\n",
       "    <th>00:02</th>\n",
       "  </tr>\n",
       "  <tr>\n",
       "    <th>7</th>\n",
       "    <th>0.661259</th>\n",
       "    <th>0.669052</th>\n",
       "    <th>0.613672</th>\n",
       "    <th>00:02</th>\n",
       "  </tr>\n",
       "  <tr>\n",
       "    <th>8</th>\n",
       "    <th>0.664260</th>\n",
       "    <th>0.666192</th>\n",
       "    <th>0.614062</th>\n",
       "    <th>00:02</th>\n",
       "  </tr>\n",
       "  <tr>\n",
       "    <th>9</th>\n",
       "    <th>0.657985</th>\n",
       "    <th>0.666008</th>\n",
       "    <th>0.614062</th>\n",
       "    <th>00:02</th>\n",
       "  </tr>\n",
       "</table>\n"
      ],
      "text/plain": [
       "<IPython.core.display.HTML object>"
      ]
     },
     "metadata": {},
     "output_type": "display_data"
    }
   ],
   "source": [
    "learn.fit_one_cycle(10, 1e-4)"
   ]
  },
  {
   "cell_type": "code",
   "execution_count": null,
   "metadata": {},
   "outputs": [],
   "source": []
  }
 ],
 "metadata": {
  "kernelspec": {
   "display_name": "Python 3",
   "language": "python",
   "name": "python3"
  },
  "language_info": {
   "codemirror_mode": {
    "name": "ipython",
    "version": 3
   },
   "file_extension": ".py",
   "mimetype": "text/x-python",
   "name": "python",
   "nbconvert_exporter": "python",
   "pygments_lexer": "ipython3",
   "version": "3.7.1"
  }
 },
 "nbformat": 4,
 "nbformat_minor": 2
}
