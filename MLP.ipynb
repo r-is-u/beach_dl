{
 "cells": [
  {
   "cell_type": "markdown",
   "metadata": {},
   "source": [
    "# Tabular Neural Net"
   ]
  },
  {
   "cell_type": "code",
   "execution_count": 2,
   "metadata": {},
   "outputs": [],
   "source": [
    "from fastai.tabular import *\n",
    "from fastai.vision import Path"
   ]
  },
  {
   "cell_type": "markdown",
   "metadata": {},
   "source": [
    "Tabular data should be in a Pandas `DataFrame`."
   ]
  },
  {
   "cell_type": "code",
   "execution_count": 3,
   "metadata": {},
   "outputs": [],
   "source": [
    "gender = 'men'\n",
    "file = 'normalized_' + gender + '.csv'\n",
    "path = Path('data')"
   ]
  },
  {
   "cell_type": "code",
   "execution_count": 4,
   "metadata": {},
   "outputs": [],
   "source": [
    "df = pd.read_csv(path/file)"
   ]
  },
  {
   "cell_type": "code",
   "execution_count": 5,
   "metadata": {},
   "outputs": [],
   "source": [
    "dep_var = 'Success'\n",
    "cat_names = ['Tech', 'Direction']\n",
    "cont_with_def = ['Serve_X', 'Serve_Y', 'Reception_X', 'Reception_Y', 'Set_X', 'Set_Y', 'Attack_X', 'Attack_Y', 'Inrun_X', 'Inrun_Y', 'Defense_X', 'Defense_Y']\n",
    "cont_without_def = ['Serve_X', 'Serve_Y', 'Reception_X', 'Reception_Y', 'Set_X', 'Set_Y', 'Attack_X', 'Attack_Y', 'Inrun_X', 'Inrun_Y']\n",
    "procs = [FillMissing, Categorify]"
   ]
  },
  {
   "cell_type": "code",
   "execution_count": 35,
   "metadata": {},
   "outputs": [],
   "source": [
    "data = (TabularList.from_df(df, path=path, cont_names=cont_without_def, cat_names=cat_names, procs=procs)\n",
    "                           .split_by_rand_pct(valid_pct=0.2)\n",
    "                           .label_from_df(cols=dep_var)\n",
    "                           .databunch())"
   ]
  },
  {
   "cell_type": "code",
   "execution_count": 7,
   "metadata": {},
   "outputs": [
    {
     "data": {
      "text/html": [
       "<table border=\"1\" class=\"dataframe\">\n",
       "  <thead>\n",
       "    <tr style=\"text-align: right;\">\n",
       "      <th>Serve_X</th>\n",
       "      <th>Serve_Y</th>\n",
       "      <th>Reception_X</th>\n",
       "      <th>Reception_Y</th>\n",
       "      <th>Set_X</th>\n",
       "      <th>Set_Y</th>\n",
       "      <th>Attack_X</th>\n",
       "      <th>Attack_Y</th>\n",
       "      <th>Inrun_X</th>\n",
       "      <th>Inrun_Y</th>\n",
       "      <th>target</th>\n",
       "    </tr>\n",
       "  </thead>\n",
       "  <tbody>\n",
       "    <tr>\n",
       "      <td>0.5000</td>\n",
       "      <td>0.9722</td>\n",
       "      <td>0.6600</td>\n",
       "      <td>0.3889</td>\n",
       "      <td>0.5000</td>\n",
       "      <td>0.4628</td>\n",
       "      <td>0.1800</td>\n",
       "      <td>0.4628</td>\n",
       "      <td>0.2800</td>\n",
       "      <td>0.3239</td>\n",
       "      <td>True</td>\n",
       "    </tr>\n",
       "    <tr>\n",
       "      <td>0.2000</td>\n",
       "      <td>0.9722</td>\n",
       "      <td>0.1800</td>\n",
       "      <td>0.0922</td>\n",
       "      <td>0.5000</td>\n",
       "      <td>0.3889</td>\n",
       "      <td>0.3400</td>\n",
       "      <td>0.4628</td>\n",
       "      <td>0.1900</td>\n",
       "      <td>0.2961</td>\n",
       "      <td>True</td>\n",
       "    </tr>\n",
       "    <tr>\n",
       "      <td>0.8000</td>\n",
       "      <td>0.9722</td>\n",
       "      <td>0.3400</td>\n",
       "      <td>0.1667</td>\n",
       "      <td>0.5000</td>\n",
       "      <td>0.4633</td>\n",
       "      <td>0.1800</td>\n",
       "      <td>0.4633</td>\n",
       "      <td>0.2800</td>\n",
       "      <td>0.3244</td>\n",
       "      <td>True</td>\n",
       "    </tr>\n",
       "    <tr>\n",
       "      <td>0.2000</td>\n",
       "      <td>0.9722</td>\n",
       "      <td>0.6600</td>\n",
       "      <td>0.1667</td>\n",
       "      <td>0.5000</td>\n",
       "      <td>0.3150</td>\n",
       "      <td>0.6600</td>\n",
       "      <td>0.4633</td>\n",
       "      <td>0.7600</td>\n",
       "      <td>0.3244</td>\n",
       "      <td>True</td>\n",
       "    </tr>\n",
       "    <tr>\n",
       "      <td>0.8000</td>\n",
       "      <td>0.9722</td>\n",
       "      <td>0.6600</td>\n",
       "      <td>0.2411</td>\n",
       "      <td>0.5000</td>\n",
       "      <td>0.3889</td>\n",
       "      <td>0.8200</td>\n",
       "      <td>0.4633</td>\n",
       "      <td>0.9700</td>\n",
       "      <td>0.2967</td>\n",
       "      <td>True</td>\n",
       "    </tr>\n",
       "  </tbody>\n",
       "</table>"
      ],
      "text/plain": [
       "<IPython.core.display.HTML object>"
      ]
     },
     "metadata": {},
     "output_type": "display_data"
    }
   ],
   "source": [
    "data.show_batch(rows=3)"
   ]
  },
  {
   "cell_type": "code",
   "execution_count": 15,
   "metadata": {},
   "outputs": [],
   "source": [
    "learn = tabular_learner(data, layers=[200,100,50,20], metrics=[accuracy, error_rate])"
   ]
  },
  {
   "cell_type": "code",
   "execution_count": 8,
   "metadata": {},
   "outputs": [
    {
     "data": {
      "text/html": [],
      "text/plain": [
       "<IPython.core.display.HTML object>"
      ]
     },
     "metadata": {},
     "output_type": "display_data"
    },
    {
     "name": "stdout",
     "output_type": "stream",
     "text": [
      "LR Finder is complete, type {learner_name}.recorder.plot() to see the graph.\n"
     ]
    },
    {
     "data": {
      "image/png": "[encoded data removed]",
      "text/plain": [
       "<Figure size 432x288 with 1 Axes>"
      ]
     },
     "metadata": {
      "needs_background": "light"
     },
     "output_type": "display_data"
    }
   ],
   "source": [
    "lr_find(learn)\n",
    "learn.recorder.plot()"
   ]
  },
  {
   "cell_type": "code",
   "execution_count": 9,
   "metadata": {},
   "outputs": [
    {
     "data": {
      "text/html": [
       "Total time: 00:09 <p><table style='width:450px; margin-bottom:10px'>\n",
       "  <tr>\n",
       "    <th>epoch</th>\n",
       "    <th>train_loss</th>\n",
       "    <th>valid_loss</th>\n",
       "    <th>accuracy</th>\n",
       "    <th>error_rate</th>\n",
       "    <th>time</th>\n",
       "  </tr>\n",
       "  <tr>\n",
       "    <th>0</th>\n",
       "    <th>0.677374</th>\n",
       "    <th>0.681295</th>\n",
       "    <th>0.623057</th>\n",
       "    <th>0.376943</th>\n",
       "    <th>00:01</th>\n",
       "  </tr>\n",
       "  <tr>\n",
       "    <th>1</th>\n",
       "    <th>0.665066</th>\n",
       "    <th>0.659901</th>\n",
       "    <th>0.627457</th>\n",
       "    <th>0.372543</th>\n",
       "    <th>00:01</th>\n",
       "  </tr>\n",
       "  <tr>\n",
       "    <th>2</th>\n",
       "    <th>0.659824</th>\n",
       "    <th>0.656007</th>\n",
       "    <th>0.628923</th>\n",
       "    <th>0.371077</th>\n",
       "    <th>00:01</th>\n",
       "  </tr>\n",
       "  <tr>\n",
       "    <th>3</th>\n",
       "    <th>0.661094</th>\n",
       "    <th>0.655885</th>\n",
       "    <th>0.629217</th>\n",
       "    <th>0.370783</th>\n",
       "    <th>00:01</th>\n",
       "  </tr>\n",
       "  <tr>\n",
       "    <th>4</th>\n",
       "    <th>0.657193</th>\n",
       "    <th>0.655917</th>\n",
       "    <th>0.632444</th>\n",
       "    <th>0.367556</th>\n",
       "    <th>00:01</th>\n",
       "  </tr>\n",
       "</table>\n"
      ],
      "text/plain": [
       "<IPython.core.display.HTML object>"
      ]
     },
     "metadata": {},
     "output_type": "display_data"
    }
   ],
   "source": [
    "learn.fit_one_cycle(5, 1e-3)"
   ]
  },
  {
   "cell_type": "code",
   "execution_count": 10,
   "metadata": {},
   "outputs": [],
   "source": [
    "learn.save('first_try_' + gender)"
   ]
  },
  {
   "cell_type": "code",
   "execution_count": 11,
   "metadata": {},
   "outputs": [
    {
     "data": {
      "text/plain": [
       "TabularModel(\n",
       "  (embeds): ModuleList()\n",
       "  (emb_drop): Dropout(p=0.0)\n",
       "  (bn_cont): BatchNorm1d(10, eps=1e-05, momentum=0.1, affine=True, track_running_stats=True)\n",
       "  (layers): Sequential(\n",
       "    (0): Linear(in_features=10, out_features=200, bias=True)\n",
       "    (1): ReLU(inplace)\n",
       "    (2): BatchNorm1d(200, eps=1e-05, momentum=0.1, affine=True, track_running_stats=True)\n",
       "    (3): Linear(in_features=200, out_features=100, bias=True)\n",
       "    (4): ReLU(inplace)\n",
       "    (5): BatchNorm1d(100, eps=1e-05, momentum=0.1, affine=True, track_running_stats=True)\n",
       "    (6): Linear(in_features=100, out_features=50, bias=True)\n",
       "    (7): ReLU(inplace)\n",
       "    (8): BatchNorm1d(50, eps=1e-05, momentum=0.1, affine=True, track_running_stats=True)\n",
       "    (9): Linear(in_features=50, out_features=20, bias=True)\n",
       "    (10): ReLU(inplace)\n",
       "    (11): BatchNorm1d(20, eps=1e-05, momentum=0.1, affine=True, track_running_stats=True)\n",
       "    (12): Linear(in_features=20, out_features=2, bias=True)\n",
       "  )\n",
       ")"
      ]
     },
     "execution_count": 11,
     "metadata": {},
     "output_type": "execute_result"
    }
   ],
   "source": [
    "learn.model"
   ]
  },
  {
   "cell_type": "markdown",
   "metadata": {},
   "source": [
    "Compare prediction with general success rate:"
   ]
  },
  {
   "cell_type": "code",
   "execution_count": 23,
   "metadata": {},
   "outputs": [
    {
     "data": {
      "text/plain": [
       "0.6226094098322187"
      ]
     },
     "execution_count": 23,
     "metadata": {},
     "output_type": "execute_result"
    }
   ],
   "source": [
    "counts = df['Success'].value_counts()\n",
    "counts[True] / len(df)"
   ]
  },
  {
   "cell_type": "markdown",
   "metadata": {},
   "source": [
    "## Inference"
   ]
  },
  {
   "cell_type": "code",
   "execution_count": null,
   "metadata": {},
   "outputs": [],
   "source": [
    "row = df.iloc[0]"
   ]
  },
  {
   "cell_type": "code",
   "execution_count": null,
   "metadata": {},
   "outputs": [],
   "source": [
    "learn.predict(row)"
   ]
  }
 ],
 "metadata": {
  "kernelspec": {
   "display_name": "Python 3",
   "language": "python",
   "name": "python3"
  },
  "language_info": {
   "codemirror_mode": {
    "name": "ipython",
    "version": 3
   },
   "file_extension": ".py",
   "mimetype": "text/x-python",
   "name": "python",
   "nbconvert_exporter": "python",
   "pygments_lexer": "ipython3",
   "version": "3.7.1"
  }
 },
 "nbformat": 4,
 "nbformat_minor": 2
}
